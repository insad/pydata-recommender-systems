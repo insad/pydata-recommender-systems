{
 "cells": [
  {
   "cell_type": "markdown",
   "metadata": {
    "slideshow": {
     "slide_type": "slide"
    }
   },
   "source": [
    "# Collaborative filtering\n",
    "\n",
    "\n",
    "Now, we're going to use the collaborative filtering method to solve our problem of recommending new artists to users.\n",
    "\n",
    "But first, what is collaborative filtering?\n",
    "\n",
    "In a very high level way, and using the music recommendation scenario, there are two ideas behind collaborative filtering."
   ]
  },
  {
   "cell_type": "markdown",
   "metadata": {
    "slideshow": {
     "slide_type": "slide"
    }
   },
   "source": [
    "### User based collaborative filtering\n",
    "\n",
    "#### Intuition\n",
    "\n",
    "If two people usually like the same artists and dislike the same artists, then they will probably feel the same way about a new artist\n",
    "\n",
    "#### Algorithm\n",
    "\n",
    "1. establish similarities between users\n",
    "2. for each user, define a set of his most similar users, called neighbors\n",
    "3. in order to recommend a new artist to a user, we average the preferences of neighbors and recommend the artist that his neighbors like the most"
   ]
  },
  {
   "cell_type": "markdown",
   "metadata": {
    "slideshow": {
     "slide_type": "slide"
    }
   },
   "source": [
    "### Item based collaborative filtering\n",
    "\n",
    "#### Intuition\n",
    "\n",
    "If many people feel the same way about two artists, then the two artists are probably similar; a user that only knows one of the artists and liked it will probably like the other artist too\n",
    "\n",
    "#### Algorithm\n",
    "\n",
    "1. establish similarities between artists\n",
    "2. each user has a preferences profile, based on how much he liked the artists\n",
    "3. in order to recommend a new artist to a user, we pick the new artists that are the most similar to the user's preferences profile"
   ]
  },
  {
   "cell_type": "markdown",
   "metadata": {
    "slideshow": {
     "slide_type": "slide"
    }
   },
   "source": [
    "### When should each method be used?\n",
    "\n",
    "* If our system has much more users than items, go for item based (and vice-versa). Computing similarities is probably the most expensive operation you'll be doing, thus do it in the smaller set.\n",
    "\n",
    "* If your items are more stable than users, i.e, if you add users more frequently than items, go for item based (and vice-versa). You'll want to recompute the similarities matrix as least as possible (while keeping accurate results, of course!)\n",
    "\n",
    "* Do you need serendipity? If yes, go for user based. When you use item based, given that the results are based on the user's own actions, the results will be less surprising for him.\n",
    "\n",
    "* Do you need to justify your recommendations? If yes, go for item based. It's easier to justify a recommendation with: \"We're showing you this because you liked that\" than with: \"We're showing you this because Jon Doe (who you don't know!) also liked it and your tastes are very similar\".\n"
   ]
  },
  {
   "cell_type": "markdown",
   "metadata": {
    "slideshow": {
     "slide_type": "slide"
    }
   },
   "source": [
    "## Let's move to the fun part!"
   ]
  },
  {
   "cell_type": "markdown",
   "metadata": {
    "slideshow": {
     "slide_type": "slide"
    }
   },
   "source": [
    "First, let's import the train dataset."
   ]
  },
  {
   "cell_type": "code",
   "execution_count": 1,
   "metadata": {
    "slideshow": {
     "slide_type": "slide"
    }
   },
   "outputs": [
    {
     "data": {
      "text/html": [
       "<div>\n",
       "<style>\n",
       "    .dataframe thead tr:only-child th {\n",
       "        text-align: right;\n",
       "    }\n",
       "\n",
       "    .dataframe thead th {\n",
       "        text-align: left;\n",
       "    }\n",
       "\n",
       "    .dataframe tbody tr th {\n",
       "        vertical-align: top;\n",
       "    }\n",
       "</style>\n",
       "<table border=\"1\" class=\"dataframe\">\n",
       "  <thead>\n",
       "    <tr style=\"text-align: right;\">\n",
       "      <th></th>\n",
       "      <th>user_id</th>\n",
       "      <th>artist_id</th>\n",
       "      <th>artist_name</th>\n",
       "      <th>playcounts</th>\n",
       "    </tr>\n",
       "  </thead>\n",
       "  <tbody>\n",
       "    <tr>\n",
       "      <th>0</th>\n",
       "      <td>00000c289a1829a808ac09c00daf10bc3c4e223b</td>\n",
       "      <td>b3ae82c2-e60b-4551-a76d-6620f1b456aa</td>\n",
       "      <td>melissa etheridge</td>\n",
       "      <td>897</td>\n",
       "    </tr>\n",
       "    <tr>\n",
       "      <th>1</th>\n",
       "      <td>00000c289a1829a808ac09c00daf10bc3c4e223b</td>\n",
       "      <td>bbd2ffd7-17f4-4506-8572-c1ea58c3f9a8</td>\n",
       "      <td>juliette &amp; the licks</td>\n",
       "      <td>706</td>\n",
       "    </tr>\n",
       "    <tr>\n",
       "      <th>2</th>\n",
       "      <td>00000c289a1829a808ac09c00daf10bc3c4e223b</td>\n",
       "      <td>21f3573f-10cf-44b3-aeaa-26cccd8448b5</td>\n",
       "      <td>the black dahlia murder</td>\n",
       "      <td>507</td>\n",
       "    </tr>\n",
       "    <tr>\n",
       "      <th>3</th>\n",
       "      <td>00000c289a1829a808ac09c00daf10bc3c4e223b</td>\n",
       "      <td>a342964d-ca53-4e54-96dc-e8501851e77f</td>\n",
       "      <td>walls of jericho</td>\n",
       "      <td>393</td>\n",
       "    </tr>\n",
       "    <tr>\n",
       "      <th>4</th>\n",
       "      <td>00000c289a1829a808ac09c00daf10bc3c4e223b</td>\n",
       "      <td>f779ed95-66c8-4493-9f46-3967eba785a8</td>\n",
       "      <td>letzte instanz</td>\n",
       "      <td>387</td>\n",
       "    </tr>\n",
       "  </tbody>\n",
       "</table>\n",
       "</div>"
      ],
      "text/plain": [
       "                                    user_id  \\\n",
       "0  00000c289a1829a808ac09c00daf10bc3c4e223b   \n",
       "1  00000c289a1829a808ac09c00daf10bc3c4e223b   \n",
       "2  00000c289a1829a808ac09c00daf10bc3c4e223b   \n",
       "3  00000c289a1829a808ac09c00daf10bc3c4e223b   \n",
       "4  00000c289a1829a808ac09c00daf10bc3c4e223b   \n",
       "\n",
       "                              artist_id              artist_name  playcounts  \n",
       "0  b3ae82c2-e60b-4551-a76d-6620f1b456aa        melissa etheridge         897  \n",
       "1  bbd2ffd7-17f4-4506-8572-c1ea58c3f9a8     juliette & the licks         706  \n",
       "2  21f3573f-10cf-44b3-aeaa-26cccd8448b5  the black dahlia murder         507  \n",
       "3  a342964d-ca53-4e54-96dc-e8501851e77f         walls of jericho         393  \n",
       "4  f779ed95-66c8-4493-9f46-3967eba785a8           letzte instanz         387  "
      ]
     },
     "execution_count": 1,
     "metadata": {},
     "output_type": "execute_result"
    }
   ],
   "source": [
    "import pandas as pd\n",
    "\n",
    "train = pd.read_csv('../data/train.csv', names=['user_id', 'artist_id', 'artist_name', 'playcounts'])\n",
    "train.head()"
   ]
  },
  {
   "cell_type": "markdown",
   "metadata": {
    "slideshow": {
     "slide_type": "slide"
    }
   },
   "source": [
    "Now, let's transform the user and artist ids in integers. This will help us when we convert our data into sparse matrices."
   ]
  },
  {
   "cell_type": "code",
   "execution_count": 2,
   "metadata": {
    "slideshow": {
     "slide_type": "slide"
    }
   },
   "outputs": [
    {
     "data": {
      "text/html": [
       "<div>\n",
       "<style>\n",
       "    .dataframe thead tr:only-child th {\n",
       "        text-align: right;\n",
       "    }\n",
       "\n",
       "    .dataframe thead th {\n",
       "        text-align: left;\n",
       "    }\n",
       "\n",
       "    .dataframe tbody tr th {\n",
       "        vertical-align: top;\n",
       "    }\n",
       "</style>\n",
       "<table border=\"1\" class=\"dataframe\">\n",
       "  <thead>\n",
       "    <tr style=\"text-align: right;\">\n",
       "      <th></th>\n",
       "      <th>user_id</th>\n",
       "      <th>artist_id</th>\n",
       "      <th>artist_name</th>\n",
       "      <th>playcounts</th>\n",
       "      <th>user_label</th>\n",
       "      <th>artist_label</th>\n",
       "    </tr>\n",
       "  </thead>\n",
       "  <tbody>\n",
       "    <tr>\n",
       "      <th>0</th>\n",
       "      <td>00000c289a1829a808ac09c00daf10bc3c4e223b</td>\n",
       "      <td>b3ae82c2-e60b-4551-a76d-6620f1b456aa</td>\n",
       "      <td>melissa etheridge</td>\n",
       "      <td>897</td>\n",
       "      <td>0</td>\n",
       "      <td>1677</td>\n",
       "    </tr>\n",
       "    <tr>\n",
       "      <th>1</th>\n",
       "      <td>00000c289a1829a808ac09c00daf10bc3c4e223b</td>\n",
       "      <td>bbd2ffd7-17f4-4506-8572-c1ea58c3f9a8</td>\n",
       "      <td>juliette &amp; the licks</td>\n",
       "      <td>706</td>\n",
       "      <td>0</td>\n",
       "      <td>1761</td>\n",
       "    </tr>\n",
       "    <tr>\n",
       "      <th>2</th>\n",
       "      <td>00000c289a1829a808ac09c00daf10bc3c4e223b</td>\n",
       "      <td>21f3573f-10cf-44b3-aeaa-26cccd8448b5</td>\n",
       "      <td>the black dahlia murder</td>\n",
       "      <td>507</td>\n",
       "      <td>0</td>\n",
       "      <td>295</td>\n",
       "    </tr>\n",
       "    <tr>\n",
       "      <th>3</th>\n",
       "      <td>00000c289a1829a808ac09c00daf10bc3c4e223b</td>\n",
       "      <td>a342964d-ca53-4e54-96dc-e8501851e77f</td>\n",
       "      <td>walls of jericho</td>\n",
       "      <td>393</td>\n",
       "      <td>0</td>\n",
       "      <td>1505</td>\n",
       "    </tr>\n",
       "    <tr>\n",
       "      <th>4</th>\n",
       "      <td>00000c289a1829a808ac09c00daf10bc3c4e223b</td>\n",
       "      <td>f779ed95-66c8-4493-9f46-3967eba785a8</td>\n",
       "      <td>letzte instanz</td>\n",
       "      <td>387</td>\n",
       "      <td>0</td>\n",
       "      <td>2335</td>\n",
       "    </tr>\n",
       "  </tbody>\n",
       "</table>\n",
       "</div>"
      ],
      "text/plain": [
       "                                    user_id  \\\n",
       "0  00000c289a1829a808ac09c00daf10bc3c4e223b   \n",
       "1  00000c289a1829a808ac09c00daf10bc3c4e223b   \n",
       "2  00000c289a1829a808ac09c00daf10bc3c4e223b   \n",
       "3  00000c289a1829a808ac09c00daf10bc3c4e223b   \n",
       "4  00000c289a1829a808ac09c00daf10bc3c4e223b   \n",
       "\n",
       "                              artist_id              artist_name  playcounts  \\\n",
       "0  b3ae82c2-e60b-4551-a76d-6620f1b456aa        melissa etheridge         897   \n",
       "1  bbd2ffd7-17f4-4506-8572-c1ea58c3f9a8     juliette & the licks         706   \n",
       "2  21f3573f-10cf-44b3-aeaa-26cccd8448b5  the black dahlia murder         507   \n",
       "3  a342964d-ca53-4e54-96dc-e8501851e77f         walls of jericho         393   \n",
       "4  f779ed95-66c8-4493-9f46-3967eba785a8           letzte instanz         387   \n",
       "\n",
       "   user_label  artist_label  \n",
       "0           0          1677  \n",
       "1           0          1761  \n",
       "2           0           295  \n",
       "3           0          1505  \n",
       "4           0          2335  "
      ]
     },
     "execution_count": 2,
     "metadata": {},
     "output_type": "execute_result"
    }
   ],
   "source": [
    "from sklearn.preprocessing import LabelEncoder\n",
    "\n",
    "le_users = LabelEncoder()\n",
    "le_users.fit(train.user_id.values)\n",
    "train['user_label'] = le_users.transform(train.user_id.values)\n",
    "\n",
    "le_artists = LabelEncoder()\n",
    "le_artists.fit(train.artist_id.values)\n",
    "train['artist_label'] = le_artists.transform(train.artist_id.values)\n",
    "\n",
    "train.head()"
   ]
  },
  {
   "cell_type": "markdown",
   "metadata": {
    "slideshow": {
     "slide_type": "slide"
    }
   },
   "source": [
    "Here we'll store our data in a sparse matrix where each row corresponds to an artist and each columns corresponds to a user."
   ]
  },
  {
   "cell_type": "code",
   "execution_count": 3,
   "metadata": {
    "slideshow": {
     "slide_type": "slide"
    }
   },
   "outputs": [],
   "source": [
    "import numpy as np\n",
    "from scipy.sparse import coo_matrix\n",
    "\n",
    "row  = np.array(train.artist_label.values)\n",
    "col  = np.array(train.user_label.values)\n",
    "data = np.array(train.playcounts.values)\n",
    "m = coo_matrix((data, (row, col)), shape=(train.artist_label.nunique(), train.user_label.nunique()))"
   ]
  },
  {
   "cell_type": "markdown",
   "metadata": {
    "slideshow": {
     "slide_type": "slide"
    }
   },
   "source": [
    "This is an helper function to show us the density of a sparse matrix."
   ]
  },
  {
   "cell_type": "code",
   "execution_count": 4,
   "metadata": {
    "slideshow": {
     "slide_type": "slide"
    }
   },
   "outputs": [],
   "source": [
    "def print_matrix_density(m):\n",
    "    # this is the number of non-zero values in the matrix\n",
    "    nnz = m.nnz\n",
    "\n",
    "    # get the matrix shape\n",
    "    shape = m.shape\n",
    "\n",
    "    # the number of elements in the matrix is n_rows * n_cols\n",
    "    n_elems = shape[0] * shape[1]\n",
    "\n",
    "    # the density of the matrix is the number of non-zero elements over all the elements\n",
    "    print('Density of sparse matrix: {}%'.format(round(nnz/n_elems*100, 2)))"
   ]
  },
  {
   "cell_type": "code",
   "execution_count": 5,
   "metadata": {
    "slideshow": {
     "slide_type": "slide"
    }
   },
   "outputs": [
    {
     "name": "stdout",
     "output_type": "stream",
     "text": [
      "Density of sparse matrix: 0.48%\n"
     ]
    }
   ],
   "source": [
    "print_matrix_density(m)"
   ]
  },
  {
   "cell_type": "markdown",
   "metadata": {
    "slideshow": {
     "slide_type": "slide"
    }
   },
   "source": [
    "In order to compute similarities between artists, we'll use Scikit's cosine_similarity function. Using the dense_output=False, we guarantee that the output is a sparse matrix."
   ]
  },
  {
   "cell_type": "code",
   "execution_count": 6,
   "metadata": {
    "slideshow": {
     "slide_type": "slide"
    }
   },
   "outputs": [
    {
     "name": "stdout",
     "output_type": "stream",
     "text": [
      "<class 'scipy.sparse.csr.csr_matrix'>\n",
      "Density of sparse matrix: 68.72%\n"
     ]
    }
   ],
   "source": [
    "from sklearn.metrics.pairwise import cosine_similarity\n",
    "\n",
    "S = cosine_similarity(m, dense_output=False)\n",
    "print(type(S))\n",
    "print_matrix_density(S)"
   ]
  },
  {
   "cell_type": "markdown",
   "metadata": {
    "slideshow": {
     "slide_type": "slide"
    }
   },
   "source": [
    "Now, let's produce recommendations! First, we'll read a test set and then we'll encode the user_ids, as we did before."
   ]
  },
  {
   "cell_type": "code",
   "execution_count": 7,
   "metadata": {
    "slideshow": {
     "slide_type": "slide"
    }
   },
   "outputs": [
    {
     "data": {
      "text/html": [
       "<div>\n",
       "<style>\n",
       "    .dataframe thead tr:only-child th {\n",
       "        text-align: right;\n",
       "    }\n",
       "\n",
       "    .dataframe thead th {\n",
       "        text-align: left;\n",
       "    }\n",
       "\n",
       "    .dataframe tbody tr th {\n",
       "        vertical-align: top;\n",
       "    }\n",
       "</style>\n",
       "<table border=\"1\" class=\"dataframe\">\n",
       "  <thead>\n",
       "    <tr style=\"text-align: right;\">\n",
       "      <th></th>\n",
       "      <th>user_id</th>\n",
       "    </tr>\n",
       "  </thead>\n",
       "  <tbody>\n",
       "    <tr>\n",
       "      <th>0</th>\n",
       "      <td>002b5d4a2aea86f2b52103393398409aa28d435a</td>\n",
       "    </tr>\n",
       "    <tr>\n",
       "      <th>1</th>\n",
       "      <td>00a41bc4ce19c07116b93430e8ccd41984fb2e2d</td>\n",
       "    </tr>\n",
       "    <tr>\n",
       "      <th>2</th>\n",
       "      <td>01ac389171616b01a392118dab5a8f56bcfbdb3b</td>\n",
       "    </tr>\n",
       "    <tr>\n",
       "      <th>3</th>\n",
       "      <td>0208feef15a26e8c93c776022a8f63c00c4fa7e9</td>\n",
       "    </tr>\n",
       "    <tr>\n",
       "      <th>4</th>\n",
       "      <td>03030070193c32afdb21bea4b3597b4d2d549bd8</td>\n",
       "    </tr>\n",
       "  </tbody>\n",
       "</table>\n",
       "</div>"
      ],
      "text/plain": [
       "                                    user_id\n",
       "0  002b5d4a2aea86f2b52103393398409aa28d435a\n",
       "1  00a41bc4ce19c07116b93430e8ccd41984fb2e2d\n",
       "2  01ac389171616b01a392118dab5a8f56bcfbdb3b\n",
       "3  0208feef15a26e8c93c776022a8f63c00c4fa7e9\n",
       "4  03030070193c32afdb21bea4b3597b4d2d549bd8"
      ]
     },
     "execution_count": 7,
     "metadata": {},
     "output_type": "execute_result"
    }
   ],
   "source": [
    "test = pd.read_csv('../data/test.csv', names=['user_id'])\n",
    "test.head()"
   ]
  },
  {
   "cell_type": "code",
   "execution_count": 8,
   "metadata": {
    "slideshow": {
     "slide_type": "slide"
    }
   },
   "outputs": [
    {
     "data": {
      "text/plain": [
       "array([ 154,  589, 1594, 1936, 2801, 3119, 3999, 4634, 5804, 6021])"
      ]
     },
     "execution_count": 8,
     "metadata": {},
     "output_type": "execute_result"
    }
   ],
   "source": [
    "test_labels = le_users.transform(test.user_id.values)\n",
    "test_labels[:10]"
   ]
  },
  {
   "cell_type": "markdown",
   "metadata": {
    "slideshow": {
     "slide_type": "slide"
    }
   },
   "source": [
    "Then, we'll select from the inital matrix m, the columns that correspond to users in the test set."
   ]
  },
  {
   "cell_type": "code",
   "execution_count": 9,
   "metadata": {
    "slideshow": {
     "slide_type": "slide"
    }
   },
   "outputs": [
    {
     "name": "stdout",
     "output_type": "stream",
     "text": [
      "<class 'scipy.sparse.csc.csc_matrix'>\n"
     ]
    }
   ],
   "source": [
    "m = m.tocsc()\n",
    "test_users = m[:,test_labels]\n",
    "print(type(test_users))"
   ]
  },
  {
   "cell_type": "markdown",
   "metadata": {
    "slideshow": {
     "slide_type": "slide"
    }
   },
   "source": [
    "Here is where Math attacks!\n",
    "We'll get the preferences of the users in the test set by computing the dot product between the similarities matrix and the users (or the artists that they like)."
   ]
  },
  {
   "cell_type": "code",
   "execution_count": 10,
   "metadata": {
    "slideshow": {
     "slide_type": "slide"
    }
   },
   "outputs": [
    {
     "name": "stdout",
     "output_type": "stream",
     "text": [
      "Density of sparse matrix: 99.95%\n"
     ]
    },
    {
     "data": {
      "text/plain": [
       "array([[   1.83029269],\n",
       "       [   1.64725937],\n",
       "       [ 141.30845304],\n",
       "       ..., \n",
       "       [ 106.26176781],\n",
       "       [   0.22112047],\n",
       "       [  16.40485559]])"
      ]
     },
     "execution_count": 10,
     "metadata": {},
     "output_type": "execute_result"
    }
   ],
   "source": [
    "preferences = S.dot(test_users)\n",
    "print('Density of sparse matrix: {}%'.format(round(preferences.nnz/(preferences.shape[0]*preferences.shape[1])*100, 2)))\n",
    "preferences[:,0].toarray()"
   ]
  },
  {
   "cell_type": "markdown",
   "metadata": {
    "slideshow": {
     "slide_type": "slide"
    }
   },
   "source": [
    "The preferences matrix is not so sparse anymore... But it's ok, because its matrix is much smaller, with just 300 columns (the number of users in the test set).\n",
    "\n",
    "Now, we want to remove from the preferences matrix the artists that the users already listened to."
   ]
  },
  {
   "cell_type": "code",
   "execution_count": 11,
   "metadata": {
    "slideshow": {
     "slide_type": "slide"
    }
   },
   "outputs": [
    {
     "data": {
      "text/plain": [
       "array([[   1.83029269],\n",
       "       [   1.64725937],\n",
       "       [   0.        ],\n",
       "       ..., \n",
       "       [ 106.26176781],\n",
       "       [   0.22112047],\n",
       "       [  16.40485559]])"
      ]
     },
     "execution_count": 11,
     "metadata": {},
     "output_type": "execute_result"
    }
   ],
   "source": [
    "test_users_coo = test_users.tocoo()\n",
    "\n",
    "for i, j in zip(test_users_coo.row, test_users_coo.col):\n",
    "    preferences[i, j] = 0\n",
    "\n",
    "preferences[:,0].toarray()"
   ]
  },
  {
   "cell_type": "markdown",
   "metadata": {
    "slideshow": {
     "slide_type": "slide"
    }
   },
   "source": [
    "And now, let's move to pandas..."
   ]
  },
  {
   "cell_type": "code",
   "execution_count": 12,
   "metadata": {
    "slideshow": {
     "slide_type": "slide"
    }
   },
   "outputs": [
    {
     "data": {
      "text/html": [
       "<div>\n",
       "<style>\n",
       "    .dataframe thead tr:only-child th {\n",
       "        text-align: right;\n",
       "    }\n",
       "\n",
       "    .dataframe thead th {\n",
       "        text-align: left;\n",
       "    }\n",
       "\n",
       "    .dataframe tbody tr th {\n",
       "        vertical-align: top;\n",
       "    }\n",
       "</style>\n",
       "<table border=\"1\" class=\"dataframe\">\n",
       "  <thead>\n",
       "    <tr style=\"text-align: right;\">\n",
       "      <th></th>\n",
       "      <th>0</th>\n",
       "      <th>1</th>\n",
       "      <th>2</th>\n",
       "      <th>3</th>\n",
       "      <th>4</th>\n",
       "      <th>5</th>\n",
       "      <th>6</th>\n",
       "      <th>7</th>\n",
       "      <th>8</th>\n",
       "      <th>9</th>\n",
       "      <th>...</th>\n",
       "      <th>2410</th>\n",
       "      <th>2411</th>\n",
       "      <th>2412</th>\n",
       "      <th>2413</th>\n",
       "      <th>2414</th>\n",
       "      <th>2415</th>\n",
       "      <th>2416</th>\n",
       "      <th>2417</th>\n",
       "      <th>2418</th>\n",
       "      <th>2419</th>\n",
       "    </tr>\n",
       "  </thead>\n",
       "  <tbody>\n",
       "    <tr>\n",
       "      <th>0</th>\n",
       "      <td>1.830293</td>\n",
       "      <td>1.647259</td>\n",
       "      <td>0.000000</td>\n",
       "      <td>13.486969</td>\n",
       "      <td>2.679935</td>\n",
       "      <td>3.801377</td>\n",
       "      <td>0.259463</td>\n",
       "      <td>0.930958</td>\n",
       "      <td>6.805027</td>\n",
       "      <td>1.941573</td>\n",
       "      <td>...</td>\n",
       "      <td>7.073527</td>\n",
       "      <td>0.494677</td>\n",
       "      <td>1.243961</td>\n",
       "      <td>1.976835</td>\n",
       "      <td>6.900427</td>\n",
       "      <td>0.291134</td>\n",
       "      <td>0.237262</td>\n",
       "      <td>106.261768</td>\n",
       "      <td>0.221120</td>\n",
       "      <td>16.404856</td>\n",
       "    </tr>\n",
       "    <tr>\n",
       "      <th>1</th>\n",
       "      <td>2.353086</td>\n",
       "      <td>7.059208</td>\n",
       "      <td>7.631676</td>\n",
       "      <td>11.471106</td>\n",
       "      <td>1.615172</td>\n",
       "      <td>0.126451</td>\n",
       "      <td>1.297599</td>\n",
       "      <td>0.697074</td>\n",
       "      <td>6.371153</td>\n",
       "      <td>36.267973</td>\n",
       "      <td>...</td>\n",
       "      <td>16.185189</td>\n",
       "      <td>5.464520</td>\n",
       "      <td>0.337963</td>\n",
       "      <td>1.697208</td>\n",
       "      <td>1.015752</td>\n",
       "      <td>0.933111</td>\n",
       "      <td>1.867684</td>\n",
       "      <td>3.058141</td>\n",
       "      <td>7.163797</td>\n",
       "      <td>86.521040</td>\n",
       "    </tr>\n",
       "    <tr>\n",
       "      <th>2</th>\n",
       "      <td>0.334930</td>\n",
       "      <td>0.523145</td>\n",
       "      <td>0.714925</td>\n",
       "      <td>0.982454</td>\n",
       "      <td>0.142186</td>\n",
       "      <td>0.000000</td>\n",
       "      <td>0.607320</td>\n",
       "      <td>1.057052</td>\n",
       "      <td>1.229495</td>\n",
       "      <td>0.565041</td>\n",
       "      <td>...</td>\n",
       "      <td>5.257200</td>\n",
       "      <td>3.081868</td>\n",
       "      <td>0.241466</td>\n",
       "      <td>11.184143</td>\n",
       "      <td>0.046592</td>\n",
       "      <td>0.287489</td>\n",
       "      <td>0.421334</td>\n",
       "      <td>0.695675</td>\n",
       "      <td>0.429554</td>\n",
       "      <td>4.022889</td>\n",
       "    </tr>\n",
       "    <tr>\n",
       "      <th>3</th>\n",
       "      <td>7.227170</td>\n",
       "      <td>2.559279</td>\n",
       "      <td>5.538450</td>\n",
       "      <td>14.323927</td>\n",
       "      <td>1.255134</td>\n",
       "      <td>0.572675</td>\n",
       "      <td>6.485822</td>\n",
       "      <td>0.397746</td>\n",
       "      <td>14.111103</td>\n",
       "      <td>34.079862</td>\n",
       "      <td>...</td>\n",
       "      <td>15.625716</td>\n",
       "      <td>13.774880</td>\n",
       "      <td>5.720238</td>\n",
       "      <td>20.830233</td>\n",
       "      <td>0.178316</td>\n",
       "      <td>1.919642</td>\n",
       "      <td>12.034838</td>\n",
       "      <td>3.932393</td>\n",
       "      <td>6.147588</td>\n",
       "      <td>35.506348</td>\n",
       "    </tr>\n",
       "    <tr>\n",
       "      <th>4</th>\n",
       "      <td>2.720481</td>\n",
       "      <td>16.069489</td>\n",
       "      <td>5.177597</td>\n",
       "      <td>0.586048</td>\n",
       "      <td>32.122461</td>\n",
       "      <td>2.428006</td>\n",
       "      <td>9.722055</td>\n",
       "      <td>38.803199</td>\n",
       "      <td>77.276059</td>\n",
       "      <td>6.459918</td>\n",
       "      <td>...</td>\n",
       "      <td>12.662701</td>\n",
       "      <td>9.440265</td>\n",
       "      <td>14.207742</td>\n",
       "      <td>3.119378</td>\n",
       "      <td>7.059925</td>\n",
       "      <td>3.386277</td>\n",
       "      <td>46.198454</td>\n",
       "      <td>1.723172</td>\n",
       "      <td>7.005515</td>\n",
       "      <td>4.474405</td>\n",
       "    </tr>\n",
       "  </tbody>\n",
       "</table>\n",
       "<p>5 rows × 2420 columns</p>\n",
       "</div>"
      ],
      "text/plain": [
       "       0          1         2          3          4         5         6     \\\n",
       "0  1.830293   1.647259  0.000000  13.486969   2.679935  3.801377  0.259463   \n",
       "1  2.353086   7.059208  7.631676  11.471106   1.615172  0.126451  1.297599   \n",
       "2  0.334930   0.523145  0.714925   0.982454   0.142186  0.000000  0.607320   \n",
       "3  7.227170   2.559279  5.538450  14.323927   1.255134  0.572675  6.485822   \n",
       "4  2.720481  16.069489  5.177597   0.586048  32.122461  2.428006  9.722055   \n",
       "\n",
       "        7          8          9       ...           2410       2411  \\\n",
       "0   0.930958   6.805027   1.941573    ...       7.073527   0.494677   \n",
       "1   0.697074   6.371153  36.267973    ...      16.185189   5.464520   \n",
       "2   1.057052   1.229495   0.565041    ...       5.257200   3.081868   \n",
       "3   0.397746  14.111103  34.079862    ...      15.625716  13.774880   \n",
       "4  38.803199  77.276059   6.459918    ...      12.662701   9.440265   \n",
       "\n",
       "        2412       2413      2414      2415       2416        2417      2418  \\\n",
       "0   1.243961   1.976835  6.900427  0.291134   0.237262  106.261768  0.221120   \n",
       "1   0.337963   1.697208  1.015752  0.933111   1.867684    3.058141  7.163797   \n",
       "2   0.241466  11.184143  0.046592  0.287489   0.421334    0.695675  0.429554   \n",
       "3   5.720238  20.830233  0.178316  1.919642  12.034838    3.932393  6.147588   \n",
       "4  14.207742   3.119378  7.059925  3.386277  46.198454    1.723172  7.005515   \n",
       "\n",
       "        2419  \n",
       "0  16.404856  \n",
       "1  86.521040  \n",
       "2   4.022889  \n",
       "3  35.506348  \n",
       "4   4.474405  \n",
       "\n",
       "[5 rows x 2420 columns]"
      ]
     },
     "execution_count": 12,
     "metadata": {},
     "output_type": "execute_result"
    }
   ],
   "source": [
    "df_preferences = pd.DataFrame(preferences.toarray())\n",
    "df_preferences = df_preferences.transpose()\n",
    "df_preferences.head()"
   ]
  },
  {
   "cell_type": "markdown",
   "metadata": {
    "slideshow": {
     "slide_type": "slide"
    }
   },
   "source": [
    "... and select the top 50 artists for each user."
   ]
  },
  {
   "cell_type": "code",
   "execution_count": 13,
   "metadata": {
    "slideshow": {
     "slide_type": "slide"
    }
   },
   "outputs": [
    {
     "data": {
      "text/plain": [
       "array(['94dbfe2e-ca48-4e08-a5a8-e1e74136c63d',\n",
       "       '4e024037-14b7-4aea-99ad-c6ace63b9620',\n",
       "       '4e954b02-fae2-4bd7-9547-e055a6ac0527',\n",
       "       'c71abd83-9d66-4c7b-9f0d-c9c36e85a955',\n",
       "       'd75d1f08-bbb8-4eae-9877-399ca9121197',\n",
       "       'b614843c-bec3-421f-9af1-03169cdd4b63',\n",
       "       '6593c2bc-9327-4adf-a8b2-b315e4f5c0bb',\n",
       "       'd50548a0-3cfd-4d7a-964b-0aef6545d819',\n",
       "       'ceef10f5-324d-4a04-8db7-1a4181e19ab3',\n",
       "       '1f1f6737-b930-46fc-8d25-110bb99f7490'], dtype=object)"
      ]
     },
     "execution_count": 13,
     "metadata": {},
     "output_type": "execute_result"
    }
   ],
   "source": [
    "k = 50\n",
    "results = []\n",
    "for index, row in df_preferences.iterrows():\n",
    "    top_k = row.sort_values(ascending=False).head(k).index.values\n",
    "    results.append(top_k)\n",
    "    \n",
    "results_ids = le_artists.inverse_transform(results)\n",
    "results_ids[0][:10]"
   ]
  },
  {
   "cell_type": "markdown",
   "metadata": {
    "slideshow": {
     "slide_type": "slide"
    }
   },
   "source": [
    "But how good is our model?\n",
    "Let's evaluate it.\n",
    "\n",
    "In the test_true set, we have 5 artist that each user listened to. So evaluating our model is basically checking if the top 50 that we predicted for each user matches the artists in the test_true dataset.\n",
    "\n",
    "We'll use the mean average precision metric, which checks if our predictions are in the test_true dataset and how good was the order of our predictions."
   ]
  },
  {
   "cell_type": "code",
   "execution_count": 14,
   "metadata": {
    "slideshow": {
     "slide_type": "slide"
    }
   },
   "outputs": [
    {
     "data": {
      "text/html": [
       "<div>\n",
       "<style>\n",
       "    .dataframe thead tr:only-child th {\n",
       "        text-align: right;\n",
       "    }\n",
       "\n",
       "    .dataframe thead th {\n",
       "        text-align: left;\n",
       "    }\n",
       "\n",
       "    .dataframe tbody tr th {\n",
       "        vertical-align: top;\n",
       "    }\n",
       "</style>\n",
       "<table border=\"1\" class=\"dataframe\">\n",
       "  <thead>\n",
       "    <tr style=\"text-align: right;\">\n",
       "      <th></th>\n",
       "      <th>user_id</th>\n",
       "      <th>top_artists</th>\n",
       "    </tr>\n",
       "  </thead>\n",
       "  <tbody>\n",
       "    <tr>\n",
       "      <th>0</th>\n",
       "      <td>002b5d4a2aea86f2b52103393398409aa28d435a</td>\n",
       "      <td>['6ec73176-6ea6-49d3-87e8-35b5fe6813f5', 'b614...</td>\n",
       "    </tr>\n",
       "    <tr>\n",
       "      <th>1</th>\n",
       "      <td>00a41bc4ce19c07116b93430e8ccd41984fb2e2d</td>\n",
       "      <td>['1f8e4ffd-b81b-4d10-91f4-461585bf9d16', '2228...</td>\n",
       "    </tr>\n",
       "    <tr>\n",
       "      <th>2</th>\n",
       "      <td>01ac389171616b01a392118dab5a8f56bcfbdb3b</td>\n",
       "      <td>['79ad5f01-b181-448d-b776-a252949d61af', 'a558...</td>\n",
       "    </tr>\n",
       "    <tr>\n",
       "      <th>3</th>\n",
       "      <td>0208feef15a26e8c93c776022a8f63c00c4fa7e9</td>\n",
       "      <td>['b9a20306-a4f5-4d3c-8680-e9cdc7e3af5b', '3d6b...</td>\n",
       "    </tr>\n",
       "    <tr>\n",
       "      <th>4</th>\n",
       "      <td>03030070193c32afdb21bea4b3597b4d2d549bd8</td>\n",
       "      <td>['1397d045-1603-41fc-80b9-712c18360145', 'ad38...</td>\n",
       "    </tr>\n",
       "  </tbody>\n",
       "</table>\n",
       "</div>"
      ],
      "text/plain": [
       "                                    user_id  \\\n",
       "0  002b5d4a2aea86f2b52103393398409aa28d435a   \n",
       "1  00a41bc4ce19c07116b93430e8ccd41984fb2e2d   \n",
       "2  01ac389171616b01a392118dab5a8f56bcfbdb3b   \n",
       "3  0208feef15a26e8c93c776022a8f63c00c4fa7e9   \n",
       "4  03030070193c32afdb21bea4b3597b4d2d549bd8   \n",
       "\n",
       "                                         top_artists  \n",
       "0  ['6ec73176-6ea6-49d3-87e8-35b5fe6813f5', 'b614...  \n",
       "1  ['1f8e4ffd-b81b-4d10-91f4-461585bf9d16', '2228...  \n",
       "2  ['79ad5f01-b181-448d-b776-a252949d61af', 'a558...  \n",
       "3  ['b9a20306-a4f5-4d3c-8680-e9cdc7e3af5b', '3d6b...  \n",
       "4  ['1397d045-1603-41fc-80b9-712c18360145', 'ad38...  "
      ]
     },
     "execution_count": 14,
     "metadata": {},
     "output_type": "execute_result"
    }
   ],
   "source": [
    "test_true = pd.read_csv('../data/test_true.csv', header=None, names=['user_id', 'top_artists'])\n",
    "test_true.head()"
   ]
  },
  {
   "cell_type": "code",
   "execution_count": 15,
   "metadata": {
    "slideshow": {
     "slide_type": "slide"
    }
   },
   "outputs": [
    {
     "data": {
      "text/html": [
       "<div>\n",
       "<style>\n",
       "    .dataframe thead tr:only-child th {\n",
       "        text-align: right;\n",
       "    }\n",
       "\n",
       "    .dataframe thead th {\n",
       "        text-align: left;\n",
       "    }\n",
       "\n",
       "    .dataframe tbody tr th {\n",
       "        vertical-align: top;\n",
       "    }\n",
       "</style>\n",
       "<table border=\"1\" class=\"dataframe\">\n",
       "  <thead>\n",
       "    <tr style=\"text-align: right;\">\n",
       "      <th></th>\n",
       "      <th>user_id</th>\n",
       "      <th>top_artists</th>\n",
       "    </tr>\n",
       "  </thead>\n",
       "  <tbody>\n",
       "    <tr>\n",
       "      <th>0</th>\n",
       "      <td>002b5d4a2aea86f2b52103393398409aa28d435a</td>\n",
       "      <td>[6ec73176-6ea6-49d3-87e8-35b5fe6813f5, b614843...</td>\n",
       "    </tr>\n",
       "    <tr>\n",
       "      <th>1</th>\n",
       "      <td>00a41bc4ce19c07116b93430e8ccd41984fb2e2d</td>\n",
       "      <td>[1f8e4ffd-b81b-4d10-91f4-461585bf9d16, 2228019...</td>\n",
       "    </tr>\n",
       "    <tr>\n",
       "      <th>2</th>\n",
       "      <td>01ac389171616b01a392118dab5a8f56bcfbdb3b</td>\n",
       "      <td>[79ad5f01-b181-448d-b776-a252949d61af, a558ed3...</td>\n",
       "    </tr>\n",
       "    <tr>\n",
       "      <th>3</th>\n",
       "      <td>0208feef15a26e8c93c776022a8f63c00c4fa7e9</td>\n",
       "      <td>[b9a20306-a4f5-4d3c-8680-e9cdc7e3af5b, 3d6bbeb...</td>\n",
       "    </tr>\n",
       "    <tr>\n",
       "      <th>4</th>\n",
       "      <td>03030070193c32afdb21bea4b3597b4d2d549bd8</td>\n",
       "      <td>[1397d045-1603-41fc-80b9-712c18360145, ad38670...</td>\n",
       "    </tr>\n",
       "  </tbody>\n",
       "</table>\n",
       "</div>"
      ],
      "text/plain": [
       "                                    user_id  \\\n",
       "0  002b5d4a2aea86f2b52103393398409aa28d435a   \n",
       "1  00a41bc4ce19c07116b93430e8ccd41984fb2e2d   \n",
       "2  01ac389171616b01a392118dab5a8f56bcfbdb3b   \n",
       "3  0208feef15a26e8c93c776022a8f63c00c4fa7e9   \n",
       "4  03030070193c32afdb21bea4b3597b4d2d549bd8   \n",
       "\n",
       "                                         top_artists  \n",
       "0  [6ec73176-6ea6-49d3-87e8-35b5fe6813f5, b614843...  \n",
       "1  [1f8e4ffd-b81b-4d10-91f4-461585bf9d16, 2228019...  \n",
       "2  [79ad5f01-b181-448d-b776-a252949d61af, a558ed3...  \n",
       "3  [b9a20306-a4f5-4d3c-8680-e9cdc7e3af5b, 3d6bbeb...  \n",
       "4  [1397d045-1603-41fc-80b9-712c18360145, ad38670...  "
      ]
     },
     "execution_count": 15,
     "metadata": {},
     "output_type": "execute_result"
    }
   ],
   "source": [
    "import json\n",
    "\n",
    "test_true.top_artists = test_true.top_artists.str.replace('\\'', '\"')\n",
    "test_true.top_artists = test_true.apply(lambda x: json.loads(x.top_artists), axis=1)\n",
    "test_true.head()"
   ]
  },
  {
   "cell_type": "code",
   "execution_count": 16,
   "metadata": {
    "slideshow": {
     "slide_type": "slide"
    }
   },
   "outputs": [
    {
     "data": {
      "text/plain": [
       "0.15531719983948952"
      ]
     },
     "execution_count": 16,
     "metadata": {},
     "output_type": "execute_result"
    }
   ],
   "source": [
    "import ml_metrics as metrics\n",
    "\n",
    "metrics.mapk(test_true.top_artists.values, results_ids, k)"
   ]
  },
  {
   "cell_type": "markdown",
   "metadata": {
    "collapsed": true
   },
   "source": []
  }
 ],
 "metadata": {
  "celltoolbar": "Slideshow",
  "kernelspec": {
   "display_name": "Python 3",
   "language": "python",
   "name": "python3"
  },
  "language_info": {
   "codemirror_mode": {
    "name": "ipython",
    "version": 3
   },
   "file_extension": ".py",
   "mimetype": "text/x-python",
   "name": "python",
   "nbconvert_exporter": "python",
   "pygments_lexer": "ipython3",
   "version": "3.6.3"
  }
 },
 "nbformat": 4,
 "nbformat_minor": 2
}
