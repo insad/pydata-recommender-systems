{
 "cells": [
  {
   "cell_type": "markdown",
   "metadata": {},
   "source": [
    "# How to Build a Recommender in Python\n",
    "\n",
    "\n",
    "### by Maria Dominguez (aka Chi) & João Ascensão"
   ]
  },
  {
   "cell_type": "markdown",
   "metadata": {},
   "source": [
    "## Overview:\n",
    "\n",
    "#### Leveraging Python's data stack to build a music recommender, not unlike Spotify's Discover Weekly."
   ]
  },
  {
   "cell_type": "markdown",
   "metadata": {},
   "source": [
    "Notes go here"
   ]
  },
  {
   "cell_type": "markdown",
   "metadata": {},
   "source": [
    "### Recommender Systems:\n",
    "\n",
    "Recommender systems present *items* that are likely to interest the *user*, by comparing the user's profile (inferred from *data*) to reference characteristics.\n",
    "\n",
    "Thus, our general framework contains three main components:\n",
    "\n",
    "* **Users**: the people in our system, that generate data and will receive item recommendations\n",
    "* **Items**: the things in our system, with which the users interact and that we want to recommend to them\n",
    "* **Data**: the different ways an user can express opinions about our items, i.e. where users and items meet."
   ]
  },
  {
   "cell_type": "markdown",
   "metadata": {},
   "source": [
    "### Music Recommendations:"
   ]
  },
  {
   "cell_type": "markdown",
   "metadata": {},
   "source": [
    "[Word out there](https://hackernoon.com/spotifys-discover-weekly-how-machine-learning-finds-your-new-music-19a41ab76efe), is that Spotify's Discover Weekly mixes together two well-known types of recommenders:\n",
    "\n",
    "* **Content-based filtering**: combines data (e.g. clicks, playcounts, ) and item attributes (e.g. content, text, tags, metadata) to create *user profiles*\n",
    "\n",
    "    * **Natural language processing (NLP)**: representing artists and tracks with features extracted from text (e.g. description, comments, tags)\n",
    "    * **Audio models**: extracting features by analyzing the raw audio tracks.\n",
    "    \n",
    "    \n",
    "* **Collaborative filtering**: analyzes user historical behaviour to find similarities across pairs of users and/or items."
   ]
  },
  {
   "cell_type": "markdown",
   "metadata": {},
   "source": [
    "### Building the Recommender:"
   ]
  },
  {
   "cell_type": "markdown",
   "metadata": {},
   "source": [
    "Using data from the lastfm dataset, our prototype will include:\n",
    "\n",
    "* A content-based filtering branch, based on processing the tags assigned by the users to each artist (no raw audio analysis today, bummer)\n",
    "* A collaborative-filtering approach, using user/artist playcounts."
   ]
  },
  {
   "cell_type": "markdown",
   "metadata": {},
   "source": [
    "### Content-based filtering:"
   ]
  },
  {
   "cell_type": "markdown",
   "metadata": {},
   "source": [
    "We will import a file we prepared containing a bunch of tags relative to the artists in the dataset."
   ]
  },
  {
   "cell_type": "code",
   "execution_count": 1,
   "metadata": {
    "scrolled": false
   },
   "outputs": [
    {
     "data": {
      "text/html": [
       "<div>\n",
       "<table border=\"1\" class=\"dataframe\">\n",
       "  <thead>\n",
       "    <tr style=\"text-align: right;\">\n",
       "      <th></th>\n",
       "      <th>artist_id</th>\n",
       "      <th>tag</th>\n",
       "    </tr>\n",
       "  </thead>\n",
       "  <tbody>\n",
       "    <tr>\n",
       "      <th>0</th>\n",
       "      <td>3bd73256-3905-4f3a-97e2-8b341527f805</td>\n",
       "      <td>90s</td>\n",
       "    </tr>\n",
       "    <tr>\n",
       "      <th>1</th>\n",
       "      <td>3bd73256-3905-4f3a-97e2-8b341527f805</td>\n",
       "      <td>alternative</td>\n",
       "    </tr>\n",
       "    <tr>\n",
       "      <th>2</th>\n",
       "      <td>3bd73256-3905-4f3a-97e2-8b341527f805</td>\n",
       "      <td>alternative punk rock</td>\n",
       "    </tr>\n",
       "    <tr>\n",
       "      <th>3</th>\n",
       "      <td>3bd73256-3905-4f3a-97e2-8b341527f805</td>\n",
       "      <td>alternative rock</td>\n",
       "    </tr>\n",
       "    <tr>\n",
       "      <th>4</th>\n",
       "      <td>3bd73256-3905-4f3a-97e2-8b341527f805</td>\n",
       "      <td>ambient</td>\n",
       "    </tr>\n",
       "  </tbody>\n",
       "</table>\n",
       "</div>"
      ],
      "text/plain": [
       "                              artist_id                    tag\n",
       "0  3bd73256-3905-4f3a-97e2-8b341527f805                    90s\n",
       "1  3bd73256-3905-4f3a-97e2-8b341527f805            alternative\n",
       "2  3bd73256-3905-4f3a-97e2-8b341527f805  alternative punk rock\n",
       "3  3bd73256-3905-4f3a-97e2-8b341527f805       alternative rock\n",
       "4  3bd73256-3905-4f3a-97e2-8b341527f805                ambient"
      ]
     },
     "execution_count": 1,
     "metadata": {},
     "output_type": "execute_result"
    }
   ],
   "source": [
    "import pandas as pd\n",
    "import numpy as np\n",
    "\n",
    "cols = ['artist_id', 'tag']\n",
    "tags = pd.read_csv(\"../data/lastfm/tags.csv\", header=None, names=cols)\n",
    "tags = tags.dropna()\n",
    "tags.head(n=5)"
   ]
  },
  {
   "cell_type": "markdown",
   "metadata": {},
   "source": [
    "We should check how many unique tags we have."
   ]
  },
  {
   "cell_type": "code",
   "execution_count": 2,
   "metadata": {},
   "outputs": [
    {
     "name": "stdout",
     "output_type": "stream",
     "text": [
      "There are 32452 unique artists and 8722 unique tags in the dataset.\n"
     ]
    }
   ],
   "source": [
    "total_artists = len(tags['artist_id'].unique())\n",
    "total_tags = len(tags['tag'].unique())\n",
    "print(\"There are {} unique artists and {} unique tags in the dataset.\".format(total_artists, total_tags))"
   ]
  },
  {
   "cell_type": "markdown",
   "metadata": {},
   "source": [
    "As for the most common tags, let's check the top 10."
   ]
  },
  {
   "cell_type": "code",
   "execution_count": 3,
   "metadata": {},
   "outputs": [
    {
     "name": "stdout",
     "output_type": "stream",
     "text": [
      "rock                23187\n",
      "electronic          20383\n",
      "pop                 16523\n",
      "alternative rock    13617\n",
      "hip hop             11318\n",
      "Name: tag, dtype: int64\n"
     ]
    }
   ],
   "source": [
    "tags_count = tags['tag'].value_counts()\n",
    "print(tags_count[:5])"
   ]
  },
  {
   "cell_type": "markdown",
   "metadata": {},
   "source": [
    "Now, let's take a random sample of 20 of the most obscure, using a random permutation over tags with one appearance."
   ]
  },
  {
   "cell_type": "code",
   "execution_count": 4,
   "metadata": {},
   "outputs": [
    {
     "data": {
      "text/plain": [
       "bodhran                      1\n",
       "bellingham                   1\n",
       "przystanek woodstock 2006    1\n",
       "brithish                     1\n",
       "icelandic indie              1\n",
       "Name: tag, dtype: int64"
      ]
     },
     "execution_count": 4,
     "metadata": {},
     "output_type": "execute_result"
    }
   ],
   "source": [
    "tags_count_one = tags_count[tags_count == 1]\n",
    "tags_count_one[np.random.permutation(len(tags_count_one))][:5]"
   ]
  },
  {
   "cell_type": "code",
   "execution_count": 25,
   "metadata": {
    "scrolled": true
   },
   "outputs": [
    {
     "data": {
      "text/html": [
       "<div>\n",
       "<table border=\"1\" class=\"dataframe\">\n",
       "  <thead>\n",
       "    <tr style=\"text-align: right;\">\n",
       "      <th></th>\n",
       "      <th>artist_id</th>\n",
       "      <th>tag</th>\n",
       "    </tr>\n",
       "  </thead>\n",
       "  <tbody>\n",
       "    <tr>\n",
       "      <th>0</th>\n",
       "      <td>0002f649-8285-4a72-b847-b3854e1a449c</td>\n",
       "      <td>acoustic alternative emo pop folk jam pop pop ...</td>\n",
       "    </tr>\n",
       "    <tr>\n",
       "      <th>1</th>\n",
       "      <td>00034ede-a1f1-4219-be39-02f36853373e</td>\n",
       "      <td>90s acoustic alternative alternative rock braz...</td>\n",
       "    </tr>\n",
       "    <tr>\n",
       "      <th>2</th>\n",
       "      <td>00039b8a-3da6-4cb2-85e3-f93e30f43049</td>\n",
       "      <td>blues funk fusion jazz pop sexy soul</td>\n",
       "    </tr>\n",
       "    <tr>\n",
       "      <th>3</th>\n",
       "      <td>0004533f-77b7-468d-8657-40db6adec34f</td>\n",
       "      <td>acoustic alternative american ballad banda bea...</td>\n",
       "    </tr>\n",
       "    <tr>\n",
       "      <th>4</th>\n",
       "      <td>0004537a-4b12-43eb-a023-04009e738d2e</td>\n",
       "      <td>acid jazz alternative rock blues rock breakbea...</td>\n",
       "    </tr>\n",
       "  </tbody>\n",
       "</table>\n",
       "</div>"
      ],
      "text/plain": [
       "                              artist_id  \\\n",
       "0  0002f649-8285-4a72-b847-b3854e1a449c   \n",
       "1  00034ede-a1f1-4219-be39-02f36853373e   \n",
       "2  00039b8a-3da6-4cb2-85e3-f93e30f43049   \n",
       "3  0004533f-77b7-468d-8657-40db6adec34f   \n",
       "4  0004537a-4b12-43eb-a023-04009e738d2e   \n",
       "\n",
       "                                                 tag  \n",
       "0  acoustic alternative emo pop folk jam pop pop ...  \n",
       "1  90s acoustic alternative alternative rock braz...  \n",
       "2               blues funk fusion jazz pop sexy soul  \n",
       "3  acoustic alternative american ballad banda bea...  \n",
       "4  acid jazz alternative rock blues rock breakbea...  "
      ]
     },
     "execution_count": 25,
     "metadata": {},
     "output_type": "execute_result"
    }
   ],
   "source": [
    "tags = tags.groupby('artist_id')['tag'].apply(' '.join).reset_index()\n",
    "tags['tag'] = tags['tag'].str.replace(\"-\", \" \")\n",
    "tags.head(n=5)"
   ]
  },
  {
   "cell_type": "markdown",
   "metadata": {},
   "source": [
    "A reasonable strategy might be splitting strings into separe words, as there are many variations for each gender (e.g. rock and alternative rock).\n",
    "\n",
    "Stemming, on the other hand, reduces words to their most basic form."
   ]
  },
  {
   "cell_type": "code",
   "execution_count": 6,
   "metadata": {},
   "outputs": [
    {
     "name": "stdout",
     "output_type": "stream",
     "text": [
      "Sample of the vocabulary: ['acoust', 'altern', 'emo', 'pop', 'folk', 'jam', 'punk', 'rock', '90s']\n",
      "There are 2964 unique tags\n"
     ]
    }
   ],
   "source": [
    "from sklearn.feature_extraction.text import CountVectorizer\n",
    "from nltk.stem.snowball import EnglishStemmer\n",
    "from string import punctuation\n",
    "\n",
    "def stem_word(doc):\n",
    "    stemmer = EnglishStemmer()\n",
    "    analyzer = CountVectorizer().build_analyzer()\n",
    "    return (stemmer.stem(word) for word in analyzer(doc))\n",
    "\n",
    "cv = CountVectorizer(min_df=3, analyzer=stem_word, stop_words='english', lowercase=True)\n",
    "cv.fit(tags['tag'])\n",
    "\n",
    "vocabulary = list(cv.vocabulary_)\n",
    "print(\"Sample of the vocabulary:\", vocabulary[:9])\n",
    "print(\"There are {} unique tags\".format(len(vocabulary)))"
   ]
  },
  {
   "cell_type": "code",
   "execution_count": 23,
   "metadata": {
    "scrolled": true
   },
   "outputs": [],
   "source": [
    "tag_count_matrix = cv.transform(tags['tag'])"
   ]
  },
  {
   "cell_type": "markdown",
   "metadata": {},
   "source": [
    "### Colaborative-filtering:"
   ]
  },
  {
   "cell_type": "code",
   "execution_count": null,
   "metadata": {
    "collapsed": true
   },
   "outputs": [],
   "source": []
  }
 ],
 "metadata": {
  "kernelspec": {
   "display_name": "Python 3",
   "language": "python",
   "name": "python3"
  },
  "language_info": {
   "codemirror_mode": {
    "name": "ipython",
    "version": 3
   },
   "file_extension": ".py",
   "mimetype": "text/x-python",
   "name": "python",
   "nbconvert_exporter": "python",
   "pygments_lexer": "ipython3",
   "version": "3.6.3"
  }
 },
 "nbformat": 4,
 "nbformat_minor": 2
}
